{
 "cells": [
  {
   "cell_type": "code",
   "execution_count": 1,
   "metadata": {},
   "outputs": [],
   "source": [
    "import sys\n",
    "sys.path.append(\"../src/\")"
   ]
  },
  {
   "cell_type": "code",
   "execution_count": 2,
   "metadata": {},
   "outputs": [],
   "source": [
    "from sinlib import Tokenizer\n",
    "from sinlib import preprocessing"
   ]
  },
  {
   "cell_type": "code",
   "execution_count": 3,
   "metadata": {},
   "outputs": [],
   "source": [
    "text = [\"ක්‍රමවත්ව, ඉවසිලිවන්තව\"] * 10"
   ]
  },
  {
   "cell_type": "code",
   "execution_count": 4,
   "metadata": {},
   "outputs": [
    {
     "data": {
      "text/plain": [
       "['ක්\\u200dරමවත්ව, ඉවසිලිවන්තව',\n",
       " 'ක්\\u200dරමවත්ව, ඉවසිලිවන්තව',\n",
       " 'ක්\\u200dරමවත්ව, ඉවසිලිවන්තව',\n",
       " 'ක්\\u200dරමවත්ව, ඉවසිලිවන්තව',\n",
       " 'ක්\\u200dරමවත්ව, ඉවසිලිවන්තව',\n",
       " 'ක්\\u200dරමවත්ව, ඉවසිලිවන්තව',\n",
       " 'ක්\\u200dරමවත්ව, ඉවසිලිවන්තව',\n",
       " 'ක්\\u200dරමවත්ව, ඉවසිලිවන්තව',\n",
       " 'ක්\\u200dරමවත්ව, ඉවසිලිවන්තව',\n",
       " 'ක්\\u200dරමවත්ව, ඉවසිලිවන්තව']"
      ]
     },
     "execution_count": 4,
     "metadata": {},
     "output_type": "execute_result"
    }
   ],
   "source": [
    "text"
   ]
  },
  {
   "cell_type": "code",
   "execution_count": 5,
   "metadata": {},
   "outputs": [
    {
     "name": "stdout",
     "output_type": "stream",
     "text": [
      "['ක්\\u200dරමවත්ව, ඉවසිලිවන්තව', 'ක්\\u200dරමවත්ව, ඉවසිලිවන්තව', 'ක්\\u200dරමවත්ව, ඉවසිලිවන්තව', 'ක්\\u200dරමවත්ව, ඉවසිලිවන්තව', 'ක්\\u200dරමවත්ව, ඉවසිලිවන්තව', 'ක්\\u200dරමවත්ව, ඉවසිලිවන්තව', 'ක්\\u200dරමවත්ව, ඉවසිලිවන්තව', 'ක්\\u200dරමවත්ව, ඉවසිලිවන්තව', 'ක්\\u200dරමවත්ව, ඉවසිලිවන්තව', 'ක්\\u200dරමවත්ව, ඉවසිලිවන්තව']\n"
     ]
    }
   ],
   "source": [
    "print(text) # have non printables \\u200d"
   ]
  },
  {
   "cell_type": "code",
   "execution_count": 6,
   "metadata": {},
   "outputs": [
    {
     "data": {
      "text/plain": [
       "[0.9333333333333333,\n",
       " 0.9333333333333333,\n",
       " 0.9333333333333333,\n",
       " 0.9333333333333333,\n",
       " 0.9333333333333333,\n",
       " 0.9333333333333333,\n",
       " 0.9333333333333333,\n",
       " 0.9333333333333333,\n",
       " 0.9333333333333333,\n",
       " 0.9333333333333333]"
      ]
     },
     "execution_count": 6,
     "metadata": {},
     "output_type": "execute_result"
    }
   ],
   "source": [
    "preprocessing.get_sinhala_character_ratio(text, consider_special_character_as_sinhala=False)"
   ]
  },
  {
   "cell_type": "code",
   "execution_count": 7,
   "metadata": {},
   "outputs": [
    {
     "data": {
      "text/plain": [
       "[1.0, 1.0, 1.0, 1.0, 1.0, 1.0, 1.0, 1.0, 1.0, 1.0]"
      ]
     },
     "execution_count": 7,
     "metadata": {},
     "output_type": "execute_result"
    }
   ],
   "source": [
    "preprocessing.get_sinhala_character_ratio(text, consider_special_character_as_sinhala=True)"
   ]
  },
  {
   "cell_type": "code",
   "execution_count": 8,
   "metadata": {},
   "outputs": [
    {
     "data": {
      "text/plain": [
       "[1.0, 1.0, 1.0, 1.0, 1.0, 1.0, 1.0, 1.0, 1.0, 1.0]"
      ]
     },
     "execution_count": 8,
     "metadata": {},
     "output_type": "execute_result"
    }
   ],
   "source": [
    "preprocessing.get_sinhala_character_ratio(text, consider_special_character_as_sinhala=True, ignore_non_printable=True)"
   ]
  },
  {
   "cell_type": "code",
   "execution_count": 9,
   "metadata": {},
   "outputs": [
    {
     "data": {
      "text/plain": [
       "[0.9375,\n",
       " 0.9375,\n",
       " 0.9375,\n",
       " 0.9375,\n",
       " 0.9375,\n",
       " 0.9375,\n",
       " 0.9375,\n",
       " 0.9375,\n",
       " 0.9375,\n",
       " 0.9375]"
      ]
     },
     "execution_count": 9,
     "metadata": {},
     "output_type": "execute_result"
    }
   ],
   "source": [
    "preprocessing.get_sinhala_character_ratio(text, consider_special_character_as_sinhala=True, ignore_non_printable=False)"
   ]
  },
  {
   "cell_type": "code",
   "execution_count": 10,
   "metadata": {},
   "outputs": [],
   "source": [
    "tokeniser = Tokenizer()"
   ]
  },
  {
   "cell_type": "code",
   "execution_count": 31,
   "metadata": {},
   "outputs": [],
   "source": [
    "corpus = [\"\"\"මේ මාසයේ ගත වූ දින 15ක කාලය තුළ කොළඹ නගරය ආශ්‍රිත ව සීසීටීවී දර්ශන මඟින් වැරදිවලට සම්බන්ධ පුද්ගලයන් 793 දෙනෙකු හදුනාගත් බව පොලීසිය නිවේදනය කර තිබේ.\"\"\"\n",
    "          \"\"\"මෑතකාලීන ව රට මුහුණ දුන් අභියෝගාත්මකම ආර්ථික කාරණාව ණය ප්‍රතිව්‍යුගතකරණය බව මුදල් රාජ්‍ය අමාත්‍ය ආචාර්ය රංජිත් සියඹලාපිටිය මහතා පවසයි.\"\"\",\n",
    "          \"භාෂාව\"\n",
    "          ]"
   ]
  },
  {
   "cell_type": "code",
   "execution_count": 32,
   "metadata": {},
   "outputs": [],
   "source": [
    "tokeniser.train(corpus)"
   ]
  },
  {
   "cell_type": "code",
   "execution_count": 33,
   "metadata": {},
   "outputs": [],
   "source": [
    "tokens = tokeniser(\"රට මුහුණ දුන් සිද්ධියේ\")"
   ]
  },
  {
   "cell_type": "code",
   "execution_count": 34,
   "metadata": {},
   "outputs": [
    {
     "data": {
      "text/plain": [
       "[73, 37, 2, 68, 56, 38, 2, 62, 29, 2, 46, 54, 87, 4]"
      ]
     },
     "execution_count": 34,
     "metadata": {},
     "output_type": "execute_result"
    }
   ],
   "source": [
    "tokens"
   ]
  },
  {
   "cell_type": "code",
   "execution_count": 35,
   "metadata": {},
   "outputs": [],
   "source": [
    "decoded_tokens = [tokeniser.token_id_to_token_map[id] for id in tokens]"
   ]
  },
  {
   "cell_type": "code",
   "execution_count": 36,
   "metadata": {},
   "outputs": [
    {
     "data": {
      "text/plain": [
       "'රට මුහුණ දුන් සිද්<unk>යේ'"
      ]
     },
     "execution_count": 36,
     "metadata": {},
     "output_type": "execute_result"
    }
   ],
   "source": [
    "\"\".join(decoded_tokens)"
   ]
  },
  {
   "cell_type": "code",
   "execution_count": 37,
   "metadata": {},
   "outputs": [
    {
     "data": {
      "text/plain": [
       "'රට මුහුණ දුන් සිද්<unk>යේ'"
      ]
     },
     "execution_count": 37,
     "metadata": {},
     "output_type": "execute_result"
    }
   ],
   "source": [
    "tokeniser.decode(tokens)"
   ]
  },
  {
   "cell_type": "code",
   "execution_count": 38,
   "metadata": {},
   "outputs": [
    {
     "data": {
      "text/plain": [
       "['භා', 'ෂා', 'ව']"
      ]
     },
     "execution_count": 38,
     "metadata": {},
     "output_type": "execute_result"
    }
   ],
   "source": [
    "[tokeniser.token_id_to_token_map[id] for id in tokeniser(\"භාෂාව\")]"
   ]
  },
  {
   "cell_type": "code",
   "execution_count": 29,
   "metadata": {},
   "outputs": [
    {
     "data": {
      "text/plain": [
       "['ස', 'ි', 'ං', 'හ', 'ල']"
      ]
     },
     "execution_count": 29,
     "metadata": {},
     "output_type": "execute_result"
    }
   ],
   "source": [
    "list(\"සිංහල\")"
   ]
  },
  {
   "cell_type": "code",
   "execution_count": null,
   "metadata": {},
   "outputs": [],
   "source": []
  }
 ],
 "metadata": {
  "language_info": {
   "name": "python"
  }
 },
 "nbformat": 4,
 "nbformat_minor": 2
}
